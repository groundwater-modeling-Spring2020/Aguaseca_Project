{
 "cells": [
  {
   "cell_type": "markdown",
   "metadata": {},
   "source": [
    "# Ensembles\n",
    "\n",
    "We will be running the following ensembles in this notebook: \n",
    "0 to 3 is from Gro More\n",
    "4to 6 is FOE\n",
    "7 to 9 is Aquaseca\n",
    "\n",
    "Stipulations for ensembles:\n",
    "- no seasonality\n",
    "- run monthly\n",
    "- Aquaseca's notebook was our base model\n",
    "\n",
    "Parameter Values\n",
    "- 1. K1, K2, and K3 = [5, 25, 100] # baseline Kx=Ky=Kz value in all zones (m/day)\n",
    "- 2. Kz ratio_lowK = [1e-6, 1e-2, 1] # ratio of Kz in low-K layer to baseline K (-)\n",
    "- 3. Sy = [0.05, 0.1, 0.3] # specific yield (-)\n",
    "- 4. R_mountains = [1e-5, 3e-5, 5e-5] # recharge rate in mountains (m/day)\n",
    "- 5. ET_valley = [1e-6, 1e-5, 1e-4] # ET rate in valley (m/day)\n",
    "- 6. ETratio_riparian = [1, 2, 3] # ratio of ET in riparian area to ET rate in valley (m/day)\n",
    "- 7. Kratio_streambed = [1e-2,1e-1, 1] # ratio of K in streambed to baseline K (-)\n"
   ]
  },
  {
   "cell_type": "markdown",
   "metadata": {},
   "source": [
    "# 1. Packages"
   ]
  },
  {
   "cell_type": "code",
   "execution_count": 1,
   "metadata": {},
   "outputs": [
    {
     "name": "stdout",
     "output_type": "stream",
     "text": [
      "flopy is installed in /Library/Frameworks/Python.framework/Versions/3.8/lib/python3.8/site-packages/flopy\n"
     ]
    }
   ],
   "source": [
    "#import packages\n",
    "import flopy\n",
    "import numpy as np\n",
    "import matplotlib.pyplot as plt\n",
    "import matplotlib as mp\n",
    "import pandas as pd\n",
    "import numpy as np\n",
    "import os\n",
    "import csv\n",
    "\n",
    "#additional analysis tools\n",
    "import flopy.utils.binaryfile as bf\n",
    "from mpl_toolkits.mplot3d import Axes3D\n",
    "from matplotlib import cm\n",
    "from matplotlib.ticker import LinearLocator, FormatStrFormatter\n",
    "np.set_printoptions(threshold=np.inf)\n",
    "\n",
    "#jupyter specific--included to show plots in notebook\n",
    "%matplotlib inline \n",
    "\n",
    "run = 'n'\n",
    "if run == 'y':\n",
    "    file_extensions = ['.dis','.bas','.lpf','.oc','.pcg','.wel']\n",
    "    for ext in file_extensions:\n",
    "        os.remove(modelname + ext)"
   ]
  },
  {
   "cell_type": "markdown",
   "metadata": {},
   "source": [
    " ## Name of run and Parameter Inputs"
   ]
  },
  {
   "cell_type": "code",
   "execution_count": 21,
   "metadata": {},
   "outputs": [
    {
     "name": "stdout",
     "output_type": "stream",
     "text": [
      "ensemble_3133113b\n"
     ]
    }
   ],
   "source": [
    "ensembles = [[1,3,3,3,1,1,3],#gro more\n",
    "[3,1,3,3,1,1,3], #gro more\n",
    "[3,1,1,1,3,3,1],#gro more\n",
    "[1,1,1,1,3,3,1],# gro more\n",
    "[2,1,2,1,3,3,1],#foe\n",
    "[2,1,2,1,3,1,1],#foe\n",
    "[2,1,2,2,1,1,1],#foe\n",
    "[2,2,1,3,2,2,3],#aq\n",
    "[2,2,1,1,2,2,1],#aq\n",
    "[1,1,1,1,1,1,1]]#aq\n",
    "\n",
    "ensemble_num = ensembles[9]#change ensemble here\n",
    "#print(ensemble_num)\n",
    "\n",
    "barley = 1 #if 1 then crops are switched\n",
    "wellmove = 0 # if 1 then well is moved\n",
    "\n",
    "\n",
    "name = \"ensemble_\"\n",
    "for i in range(len(ensemble_num)):\n",
    "    string = str(ensemble_num[i])\n",
    "    name = name + string \n",
    "    \n",
    "if(barley == 1 ):\n",
    "    name = name + 'b'\n",
    "elif(wellmove == 1):\n",
    "    name = name + 'w'\n",
    "    \n",
    "print(name)"
   ]
  },
  {
   "cell_type": "markdown",
   "metadata": {},
   "source": [
    "# 2. Discretization and other inputs"
   ]
  },
  {
   "cell_type": "code",
   "execution_count": 22,
   "metadata": {},
   "outputs": [
    {
     "name": "stdout",
     "output_type": "stream",
     "text": [
      "well4 location(layer, col, row) 38 12\n"
     ]
    }
   ],
   "source": [
    "# Discretization\n",
    "nrow = 50 #number of rows\n",
    "ncol = 50 #number of columns\n",
    "nlay = 3  #number of layers\n",
    "\n",
    "dx= 1000 #width of grid cells in x direction \n",
    "dy= 1000 #width of grid cells in y direction \n",
    "Lx = ncol*dx  #width of domain in x\n",
    "Ly = nrow*dy #width of domain in y\n",
    "\n",
    "#ztop = 100\n",
    "ztop = np.genfromtxt('base_model_elevs.csv', delimiter=',', dtype=float)   # top elevation of top layer (import from csv file) (dim: nrow,ncol)\n",
    "#print(type(ztop))\n",
    "#print(ztop.shape)\n",
    "#print(ztop[0,:])\n",
    "zbot = 0.     #bottom elevation\n",
    "\n",
    "\n",
    "## Subsurface properties\n",
    "n = 0.1        #assign porosity\n",
    "Ss = 0.0001      #assign storage coefficient\n",
    "uncnf = 1       #0=confined, >0 = unconfined\n",
    "\n",
    "\n",
    "#supply well\n",
    "pumping = 0 #m3/day \n",
    "well_xy= [38000, 29000] #xy location of well \n",
    "well_row = np.floor((nrow)-(well_xy[1]/dy)) #convert the y location to a row\n",
    "well_col=np.floor(well_xy[0]/dx) #convert the x location to a column\n",
    "well_row = 29\n",
    "well_col = 37\n",
    "well_loc = (0,well_row, well_col)\n",
    "well = [2,well_row, well_col, pumping] #Well loc shoudl be layer, row, column\n",
    "#print(\"well1 location(layer, col, row)\", well_row, well_col)\n",
    "\n",
    "\n",
    "#MW1\n",
    "pumping2 = 0 #m3/day \n",
    "well2_xy= [25000, 25000] #xy location of well \n",
    "well2_row = np.floor((nrow)-(well2_xy[1]/dy)) #convert the y location to a row\n",
    "well2_col=np.floor(well2_xy[0]/dx)-1 #convert the x location to a column\n",
    "well2_loc = (0,well2_row, well2_col)\n",
    "well2 = [0,well2_row, well2_col, pumping2] #Well loc shoudl be layer, row, column\n",
    "#print(\"well2 location(layer, col, row)\", well2_row, well2_col)\n",
    "\n",
    "#MW2\n",
    "pumping3 = 0 #m3/day \n",
    "well3_xy= [12500, 12500] #xy location of well \n",
    "well3_row = np.floor((nrow)-(well3_xy[1]/dy)) #convert the y location to a row\n",
    "well3_col=np.floor(well3_xy[0]/dx) #convert the x location to a column\n",
    "well3_loc = (0,well3_row, well3_col)\n",
    "well3 = [0,well3_row, well3_col, pumping3] \n",
    "#print(\"well3 location(layer, col, row)\", well3_row, well3_col)\n",
    "\n",
    "\n",
    "\n",
    "#irrigation well\n",
    "if (barley == 1):\n",
    "    pumping4 = -2250 #the water that makes the beer\n",
    "else:\n",
    "    pumping4 = -4500 #m3/day\n",
    "    \n",
    "if (wellmove == 1): \n",
    "    well4_row = 19\n",
    "else:  \n",
    "    well4_row = 38 \n",
    "well4_col = 12 \n",
    "well4_loc = (0,well4_row, well4_col)\n",
    "well4 = [0,well4_row, well4_col, pumping4] \n",
    "print(\"well4 location(layer, col, row)\", well4_row, well4_col)\n",
    "\n",
    "#wel_spd = {0: [well, well2, well3, well4]}\n",
    "#print(len(wel_spd))\n",
    "\n",
    "\n",
    "## Timing\n",
    "# nper = 1 #number of stress periods \n",
    "# steady = [True] #list noting the stress period type"
   ]
  },
  {
   "cell_type": "markdown",
   "metadata": {},
   "source": [
    "## 2.1 Parameters that change"
   ]
  },
  {
   "cell_type": "markdown",
   "metadata": {},
   "source": [
    "### Specific yield"
   ]
  },
  {
   "cell_type": "code",
   "execution_count": 23,
   "metadata": {},
   "outputs": [
    {
     "name": "stdout",
     "output_type": "stream",
     "text": [
      "0.3\n"
     ]
    }
   ],
   "source": [
    "if ensemble_num[2] == 1:\n",
    "    Sy = 0.05  #lowest   #assign specific yield\n",
    "elif ensemble_num[2] == 2:\n",
    "    Sy = 0.1\n",
    "else:\n",
    "    Sy = 0.3   #highest\n",
    "print(Sy)"
   ]
  },
  {
   "cell_type": "markdown",
   "metadata": {},
   "source": [
    "### Recharge"
   ]
  },
  {
   "cell_type": "code",
   "execution_count": 24,
   "metadata": {},
   "outputs": [],
   "source": [
    "#R_mountains = [1e-5, 3e-5, 5e-5]\n",
    "if ensemble_num[3] == 1:\n",
    "    rech=1e-5  #m/d #lowest   #assign specific yield\n",
    "elif ensemble_num[3] == 2:\n",
    "    rech=3e-5\n",
    "else:\n",
    "    rech=5e-5  #m/d\n",
    "\n",
    "#print(rech)\n",
    "rechxy=[(0,0),(0,36000)]  #recharge zone\n",
    "\n",
    "rech_rows_forced = (1.0, 49.0) #rech zone forced for leftmost 15 cols\n",
    "rech_cols_forced = (1.0, 15.0)\n",
    "\n",
    "agrech_rows_forced = (28.0, 30.0) #rech zone forced for leftmost 15 cols\n",
    "agrech_cols_forced = (18.0, 20.0)\n",
    "\n",
    "if (barley == 1):\n",
    "    agrech = 0.000072 #barley recharge\n",
    "else:\n",
    "    agrech = 0.00015  #pistachios (1/8th area already included)\n",
    "\n",
    "# rech_zone_forced = np.zeros((1, nrow,ncol))\n",
    "# rech_zone_forced[0, int(rech_rows_forced[0]):int(rech_rows_forced[1]),int(rech_cols_forced[0]):int(rech_cols_forced[1])]=rech\n",
    "# rech_zone_forced[0, int(agrech_rows_forced[0]):int(agrech_rows_forced[1]),int(agrech_cols_forced[0]):int(agrech_cols_forced[1])]=agrech\n",
    "\n",
    "# rech_rows=(np.floor(nrow-rechxy[1][1]/dy),np.floor(nrow-rechxy[0][1]/dy))\n",
    "# rech_cols=(np.floor(rechxy[0][0]/dx),np.floor(rechxy[1][0]/dx))\n",
    "# #rech_zone=np.zeros(1,nrow,ncol)\n",
    "# #rech_zone[0,int(rech_rows[0]):int(rech_rows[1]),int(rech_cols[0]):int(rech_cols[1])]=rech\n",
    "# print(\"recharge location(col, row)\", rech_cols,rech_rows)\n",
    "\n",
    "sp_peryr = 1   #number of seasons (with and wihtout ET. April-Sept and Oct-Mar)\n",
    "sp_len = 360  #sp lengths\n",
    "sim_years = 300\n",
    "nper = int(sp_peryr*sim_years)+1\n",
    "\n",
    "rech_zone_forced = np.zeros((1, nrow,ncol))\n",
    "rech_zone_forced[0, int(rech_rows_forced[0]):int(rech_rows_forced[1]),int(rech_cols_forced[0]):int(rech_cols_forced[1])]=rech\n",
    "rech_zone_with_ag = np.zeros((1, nrow,ncol))\n",
    "rech_zone_with_ag[0, int(rech_rows_forced[0]):int(rech_rows_forced[1]),int(rech_cols_forced[0]):int(rech_cols_forced[1])]=rech\n",
    "rech_zone_with_ag[0, int(agrech_rows_forced[0]):int(agrech_rows_forced[1]),int(agrech_cols_forced[0]):int(agrech_cols_forced[1])]=agrech\n",
    "\n",
    "\n",
    "rech_dict = {}\n",
    "\n",
    "for i in range(nper):    #loop over stress periods, odds are 0 ET, evens are reg ET\n",
    "    if i <= 199:\n",
    "        rech_dict[i] = rech_zone_forced\n",
    "        #print(i)\n",
    "    elif i > 199:  \n",
    "        #print(i)\n",
    "        rech_dict[i] = rech_zone_with_ag\n",
    "\n"
   ]
  },
  {
   "cell_type": "markdown",
   "metadata": {},
   "source": [
    "### K values"
   ]
  },
  {
   "cell_type": "code",
   "execution_count": 25,
   "metadata": {},
   "outputs": [
    {
     "name": "stdout",
     "output_type": "stream",
     "text": [
      "100 100 9.999999999999999e-05 9.999999999999999e-05\n"
     ]
    }
   ],
   "source": [
    "## K for layers 1 and 3 \n",
    "if ensemble_num[0] == 1:\n",
    "    K_horiz = 5 #m/d\n",
    "    K_vert = 5 #m/d\n",
    "elif ensemble_num[0] == 2:\n",
    "    K_horiz = 25 #m/d\n",
    "    K_vert = 25 #m/d\n",
    "else:\n",
    "    K_horiz = 100 #m/d\n",
    "    K_vert = 100 #m/d\n",
    "    \n",
    "    \n",
    "#Kzratio_lowK = [1e-6, 1e-2, 1] # ratio of Kz in low-K layer to baseline K (-)\n",
    "if ensemble_num[1] == 1:\n",
    "    K_horiz2 = K_horiz*1e-6 #m/d\n",
    "    K_vert2 = K_vert*1e-6 #m/d\n",
    "elif ensemble_num[1] == 2:\n",
    "    K_horiz2 = K_horiz*1e-2 #m/d\n",
    "    K_vert2 = K_vert*1e-2 #m/d\n",
    "else:\n",
    "    K_horiz2 = K_horiz*1 #m/d\n",
    "    K_vert2 = K_vert*1 #m/d\n",
    "    \n",
    "\n",
    "## K for layer 2\n",
    "# Kvert1 = 0.000001 #m/d  #K for the middle layer \n",
    "# Kvert2 = 0.01 #m/d\n",
    "# Kvert3 = 1 #m/d\n",
    "\n",
    "## make horizontal K np arrays\n",
    "Kh = np.zeros((nlay,nrow,ncol))     # define an array of zeros the size of the model grid (nlay, nrow, ncol)\n",
    "Kh[:,:,:] = K_horiz # assign the original value to the entire array\n",
    "\n",
    "## Make a arrays for the K values\n",
    "Kz = np.zeros((nlay,nrow,ncol))     # define an array of zeros the size of the model grid (nlay, nrow, ncol)\n",
    "Kz[:,:,:] = K_vert                   # assign the original value to the entire array\n",
    "Kz[1,:,20:49] = K_vert2            #Replace K in the middle layer with the lower value\n",
    "#Kz[1,:,:] = K_vert2\n",
    "#print(K_horiz)\n",
    "#print(Kz)\n",
    "\n",
    "## Make some changes to the parameters\n",
    "bot_elev = 0.\n",
    "mid_elev = 40.\n",
    "top_elev = 45.\n",
    "\n",
    "botm = np.zeros((nlay,nrow,ncol)) # initialize array of zeros for bottom elevation for each model cell (dim: nlay,nrow,ncol)\n",
    "botm[2,:,:] = bot_elev                 # bottom elevation of lowest layer (2) is 0 m\n",
    "botm[1,:,:] = mid_elev                 #bottom elevation of middle layer (1) is 40 m           \n",
    "botm[0,:,:] = top_elev                 # bottom elevation of top layer (0) 45 \n",
    "print(K_horiz,K_vert, K_horiz2, K_vert2)"
   ]
  },
  {
   "cell_type": "markdown",
   "metadata": {},
   "source": [
    "### Stream K"
   ]
  },
  {
   "cell_type": "code",
   "execution_count": 26,
   "metadata": {},
   "outputs": [],
   "source": [
    "riv_row= 24\n",
    "riv_sp = [] #create list to store all river cells for stress period 1\n",
    "\n",
    "\n",
    "#Kratio_streambed = [1e-2,1e-1, 1] # ratio of K in streambed to baseline K (-)\n",
    "if ensemble_num[6] == 1:\n",
    "    k_rivbott = K_vert*0.01\n",
    "elif ensemble_num[6] == 2:\n",
    "    k_rivbott = K_vert*0.1\n",
    "else:\n",
    "    k_rivbott = K_vert*1\n",
    "\n",
    "\n",
    "# k_rivbott1 = 0.01 #river bottom hydraulic conductivity in m/d\n",
    "# k_rivbott3 = 1 #river bottom hydraulic conductivity in m/d\n",
    "# # Kratio_streambed = [1e-2,1e-1, 1]\n",
    "\n",
    "sed_thick = 1 #thickness of riverbed sediment in m\n",
    "cond = k_rivbott*(1)*(1000)/(sed_thick) #river bed conductance in m^2/d\n",
    "r_stage = .5 #stage in river (stress period 1)\n",
    "r_bott = ztop[riv_row,:] #river bottom\n",
    "#print(r_bott)\n",
    "for i in range(1,ncol):\n",
    "    riv_sp.append([0, riv_row, i, r_bott[i]-1+sed_thick+r_stage, cond, r_bott[i]-2])\n",
    "    \n",
    "#print(riv_spd)\n",
    "#create dictionary of stress period data\n",
    "riv_spd = {0: riv_sp}\n",
    "#print(riv_spd)"
   ]
  },
  {
   "cell_type": "markdown",
   "metadata": {},
   "source": [
    "## 2.2 Stressperiods"
   ]
  },
  {
   "cell_type": "code",
   "execution_count": 27,
   "metadata": {},
   "outputs": [],
   "source": [
    "\n",
    "nper = 301\n",
    "#setup the steady state array\n",
    "steady = np.ones(nper, dtype=bool)*False     # steady-state or transient flag for each stress period (boolean array)\n",
    "#print(steady)\n",
    "steady[0] = True    # initial stress period is steady-state\n",
    "\n",
    "#make an array of period lengths\n",
    "perlen=np.tile([sp_len],sim_years)\n",
    "perlen=np.append(100,perlen) #add a period of length 10 at the start for the steady state simulation\n",
    "#print(\"Period lengths\", perlen)\n",
    "\n",
    "#make an nstp array for the # of time steps to solve within each period in this case we will do daily \n",
    "\n",
    "nstp=perlen/30 #30 for monthly\n",
    "#nstp[0]=1 #for the steady state solution we just want one output\n",
    "nstp = nstp.astype(int)\n",
    "#print(\"Number of Steps\", nstp)\n",
    "\n",
    "\n",
    "## Boundary conditions\n",
    "h_right = 70"
   ]
  },
  {
   "cell_type": "markdown",
   "metadata": {},
   "source": [
    "### Pumping and burnin"
   ]
  },
  {
   "cell_type": "code",
   "execution_count": 28,
   "metadata": {},
   "outputs": [],
   "source": [
    "wel_spd = {}    \n",
    "    \n",
    "burn = 100 #0 because of the head file read in\n",
    "decade = 1\n",
    "#decade2 = 10 #to calculate pumping after 100 year pumping\n",
    "pump = 47\n",
    "pumpingag4 = pumping4\n",
    "#total pumping = \n",
    "for strper in range(0, nper):    \n",
    "    if strper < burn:\n",
    "        pumping = 0\n",
    "        wel_spd[strper] = [[2,well_row, well_col, pumping], [0, well4_row, well4_col, 0]]\n",
    "    elif strper < (burn + 100):\n",
    "        if strper < (burn+decade*10):\n",
    "            pumping = round(pump * (decade**1.5)) *-1\n",
    "            wel_spd[strper] =  [[2,well_row, well_col, pumping], [0, well4_row, well4_col, 0]]\n",
    "        else:\n",
    "            decade = decade + 1   \n",
    "            pumping = round(pump * (decade**1.5)) *-1\n",
    "            wel_spd[strper] =  [[2,well_row, well_col, pumping], [0, well4_row, well4_col, 0]]\n",
    "    else:\n",
    "        if strper < (burn+decade*10):\n",
    "            pumping = round(pump * (decade**1.5)) *-1\n",
    "            wel_spd[strper] =  [[2,well_row, well_col, pumping], [0, well4_row, well4_col, pumpingag4]]\n",
    "        else:\n",
    "            decade = decade + 1   \n",
    "            pumping = round(pump * (decade**1.5)) *-1\n",
    "            wel_spd[strper] =  [[2,well_row, well_col, pumping], [0, well4_row, well4_col, pumpingag4]]\n",
    "    \n",
    "#print(wel_spd)\n",
    "#print(wel_spd)"
   ]
  },
  {
   "cell_type": "markdown",
   "metadata": {},
   "source": [
    "### ET"
   ]
  },
  {
   "cell_type": "code",
   "execution_count": 29,
   "metadata": {},
   "outputs": [],
   "source": [
    "## ET\n",
    "\n",
    "# ET_valley = [1e-6, 1e-5, 1e-4] # ET rate in valley (m/day)\n",
    "# ETratio_riparian = [1, 2, 3] # ratio of ET in riparian area to ET rate in valley (m/day)\n",
    "\n",
    "#ET_valley = [1e-6, 1e-5, 1e-4] # ET rate in valley (m/day)\n",
    "if ensemble_num[4] == 1:\n",
    "    ET = 1e-6 #m/day\n",
    "elif ensemble_num[4] == 2:\n",
    "    ET = 1e-5 #m/day\n",
    "else:\n",
    "    ET = 1e-4 #m/day\n",
    "\n",
    "# ETratio_riparian = [1, 2, 3] # ratio of ET in riparian area to ET rate in valley (m/day)\n",
    "if ensemble_num[5] == 1:\n",
    "    rip_ET = ET #m/day\n",
    "elif ensemble_num[5] == 2:\n",
    "    rip_ET = ET*2 #m/day\n",
    "else:\n",
    "    rip_ET = ET*3 #m/day\n",
    "    \n",
    "\n",
    "ET_locxy=[[24000,0], [0, 0]] #lower left and upper right corners of ET in xy coordinate\n",
    "#rip_ET= 5e-5  #riparian zone\n",
    "\n",
    "\n",
    "rip_locxy= [[0,21000],[23000,0]]\n",
    "extinction_depth = 10 #m\n",
    "\n",
    "\n",
    "ET_rows_forced=(1.0, 49.0) #me forcing the et_rows to be 0-50\n",
    "ET_cols_forced = (26.0, 49.0)\n",
    "\n",
    "ET_zone = np.zeros((1,nrow,ncol))     # define an array of zeroes the size of the model grid\n",
    "ET_zone[0,int(ET_rows_forced[0]):int(ET_rows_forced[1]), int(ET_cols_forced[0]):int(ET_cols_forced[1])] = ET \n",
    "\n",
    "rip_rows_forced = (21.0, 28.0)  #forced riparian area\n",
    "rip_cols_forced = (1.0, 49.0)\n",
    "\n",
    "rip_zone = np.zeros((nlay,nrow,ncol))     # define an array of zeroes the size of the model grid\n",
    "ET_zone[0,int(rip_rows_forced[0]):int(rip_rows_forced[1]), int(rip_cols_forced[0]):int(rip_cols_forced[1])] = rip_ET \n",
    "#print(\"Riparian location(col, row)\", rip_cols,rip_rows)       \n",
    "\n",
    "\n",
    "\n",
    "ET_dict = {} #set up an ET dictionary, where each key is a stress period num 0-50\n",
    "#ET_zone2 = ET_zone * 0 \n",
    "\n",
    "for p in range(0,nper):    #loop over stress periods, odds are 0 ET, evens are reg ET\n",
    "    ET_dict[p] = ET_zone\n"
   ]
  },
  {
   "cell_type": "markdown",
   "metadata": {},
   "source": [
    "## 2.3 Ibounds"
   ]
  },
  {
   "cell_type": "code",
   "execution_count": 30,
   "metadata": {},
   "outputs": [
    {
     "name": "stdout",
     "output_type": "stream",
     "text": [
      "/Users/rachelspinti/Documents/HWRS_582/Aguaseca_Project/Advocacy\n"
     ]
    }
   ],
   "source": [
    "#read in burn-in head values\n",
    "print(os.getcwd())\n",
    "# H_init = np.ones((nlay, nrow, ncol), dtype=np.float32) \n",
    "# H_init[0,:,:] = np.loadtxt('postdev_toplayer_h_init.csv', delimiter=\",\")\n",
    "# H_init[1,:,:] = np.loadtxt('postdev_midlayer_h_init.csv', delimiter=\",\")\n",
    "# H_init[2,:,:] = np.loadtxt('postdev_botlayer_h_init.csv', delimiter=\",\")\n",
    "# print(H_init[2,:,1])\n",
    "\n",
    "H_init = np.ones((nlay, nrow, ncol), dtype=np.float32)  #float array (i.e. decimal), sets all heads to 1.0\n",
    "H_init[:, :, :] = h_right  #initialize the entire domain to the right head value\n",
    "H_init[:, :, 49] = h_right    #replace first (right) col with desired head value\n",
    "\n",
    "#Define cell activity (IBOUND)\n",
    "ibound=np.ones((nlay,nrow,ncol))                                                  \n",
    "ibound[:,:,0] = 0  #1st col = no flow       \n",
    "ibound[:,:,49] = -1  #last col = constant head \n",
    "\n",
    "ibound[:,0,:49]=0\n",
    "ibound[:,49,:49]=0\n",
    "ibound[:,1,:5]=0\n",
    "ibound[:,2,:4]=0\n",
    "ibound[:,3,:3]=0\n",
    "ibound[:,4,:2]=0\n",
    "\n",
    "ibound[:,48,:5]=0\n",
    "ibound[:,47,:4]=0\n",
    "ibound[:,46,:3]=0\n",
    "ibound[:,45,:2]=0\n",
    "\n",
    "ibound[1:,1,:7]=0\n",
    "ibound[1:,2,:6]=0\n",
    "ibound[1:,3,:5]=0\n",
    "ibound[1:,4,:4]=0\n",
    "ibound[1:,5,:3]=0\n",
    "ibound[1:,6,1]=0\n",
    "\n",
    "ibound[1:,48,:7]=0\n",
    "ibound[1:,47,:6]=0\n",
    "ibound[1:,46,:5]=0\n",
    "ibound[1:,45,:4]=0\n",
    "ibound[1:,44,:3]=0\n",
    "ibound[1:,43,1]=0\n",
    "\n",
    "ibound[2,1,:9]=0\n",
    "ibound[2,2,:8]=0\n",
    "ibound[2,3,:7]=0\n",
    "ibound[2,4,:6]=0\n",
    "ibound[2,5,:5]=0\n",
    "ibound[2,6,:4]=0\n",
    "ibound[2,7,:3]=0\n",
    "ibound[2,8,1]=0\n",
    "\n",
    "ibound[2,48,:9]=0\n",
    "ibound[2,47,:8]=0\n",
    "ibound[2,46,:7]=0\n",
    "ibound[2,45,:6]=0\n",
    "ibound[2,44,:5]=0\n",
    "ibound[2,43,:4]=0\n",
    "ibound[2,42,:3]=0\n",
    "ibound[2,41,1]=0"
   ]
  },
  {
   "cell_type": "markdown",
   "metadata": {},
   "source": [
    "# 3. Run Modflow"
   ]
  },
  {
   "cell_type": "code",
   "execution_count": 33,
   "metadata": {},
   "outputs": [
    {
     "name": "stdout",
     "output_type": "stream",
     "text": [
      "FloPy is using the following  executable to run the model: /Applications/MODFLOW/mf2005\n",
      "\n",
      "                                  MODFLOW-2005     \n",
      "    U.S. GEOLOGICAL SURVEY MODULAR FINITE-DIFFERENCE GROUND-WATER FLOW MODEL\n",
      "                             Version 1.12.00 2/3/2017                        \n",
      "\n",
      " Using NAME file: ensemble_3133113b.nam \n",
      " Run start date and time (yyyy/mm/dd hh:mm:ss): 2020/05/02 17:52:48\n",
      "\n",
      " Solving:  Stress period:     1    Time step:     1    Ground-Water Flow Eqn.\n",
      " Solving:  Stress period:     1    Time step:     2    Ground-Water Flow Eqn.\n",
      " Solving:  Stress period:     1    Time step:     3    Ground-Water Flow Eqn.\n",
      " Solving:  Stress period:     2    Time step:     1    Ground-Water Flow Eqn.\n",
      " Solving:  Stress period:     2    Time step:     2    Ground-Water Flow Eqn.\n",
      " Solving:  Stress period:     2    Time step:     3    Ground-Water Flow Eqn.\n",
      " Solving:  Stress period:     2    Time step:     4    Ground-Water Flow Eqn.\n",
      " Solving:  Stress period:     2    Time step:     5    Ground-Water Flow Eqn.\n",
      " Solving:  Stress period:     2    Time step:     6    Ground-Water Flow Eqn.\n",
      " Solving:  Stress period:     2    Time step:     7    Ground-Water Flow Eqn.\n",
      " Solving:  Stress period:     2    Time step:     8    Ground-Water Flow Eqn.\n",
      " Solving:  Stress period:     2    Time step:     9    Ground-Water Flow Eqn.\n",
      " Solving:  Stress period:     2    Time step:    10    Ground-Water Flow Eqn.\n",
      " Solving:  Stress period:     2    Time step:    11    Ground-Water Flow Eqn.\n",
      " Solving:  Stress period:     2    Time step:    12    Ground-Water Flow Eqn.\n",
      " Solving:  Stress period:     3    Time step:     1    Ground-Water Flow Eqn.\n",
      " Solving:  Stress period:     3    Time step:     2    Ground-Water Flow Eqn.\n",
      " Solving:  Stress period:     3    Time step:     3    Ground-Water Flow Eqn.\n",
      " Solving:  Stress period:     3    Time step:     4    Ground-Water Flow Eqn.\n",
      " Solving:  Stress period:     3    Time step:     5    Ground-Water Flow Eqn.\n",
      " Run end date and time (yyyy/mm/dd hh:mm:ss): 2020/05/02 17:53:00\n",
      " Elapsed run time: 12.218 Seconds\n",
      "\n",
      " FAILED TO MEET SOLVER CONVERGENCE CRITERIA            1  TIME(S)\n"
     ]
    },
    {
     "ename": "Exception",
     "evalue": "MODFLOW did not terminate normally.",
     "output_type": "error",
     "traceback": [
      "\u001b[0;31m---------------------------------------------------------------------------\u001b[0m",
      "\u001b[0;31mException\u001b[0m                                 Traceback (most recent call last)",
      "\u001b[0;32m<ipython-input-33-2d551d8d61c9>\u001b[0m in \u001b[0;36m<module>\u001b[0;34m\u001b[0m\n\u001b[1;32m     78\u001b[0m \u001b[0msuccess\u001b[0m\u001b[0;34m,\u001b[0m \u001b[0mmfoutput\u001b[0m \u001b[0;34m=\u001b[0m \u001b[0mm\u001b[0m\u001b[0;34m.\u001b[0m\u001b[0mrun_model\u001b[0m\u001b[0;34m(\u001b[0m\u001b[0mpause\u001b[0m\u001b[0;34m=\u001b[0m\u001b[0;32mFalse\u001b[0m\u001b[0;34m,\u001b[0m \u001b[0mreport\u001b[0m\u001b[0;34m=\u001b[0m\u001b[0;32mTrue\u001b[0m\u001b[0;34m)\u001b[0m\u001b[0;34m\u001b[0m\u001b[0;34m\u001b[0m\u001b[0m\n\u001b[1;32m     79\u001b[0m \u001b[0;32mif\u001b[0m \u001b[0;32mnot\u001b[0m \u001b[0msuccess\u001b[0m\u001b[0;34m:\u001b[0m\u001b[0;34m\u001b[0m\u001b[0;34m\u001b[0m\u001b[0m\n\u001b[0;32m---> 80\u001b[0;31m     \u001b[0;32mraise\u001b[0m \u001b[0mException\u001b[0m\u001b[0;34m(\u001b[0m\u001b[0;34m'MODFLOW did not terminate normally.'\u001b[0m\u001b[0;34m)\u001b[0m\u001b[0;34m\u001b[0m\u001b[0;34m\u001b[0m\u001b[0m\n\u001b[0m",
      "\u001b[0;31mException\u001b[0m: MODFLOW did not terminate normally."
     ]
    }
   ],
   "source": [
    "#create model object\n",
    "#modelname = \"Ensemble_Test\"\n",
    "modelname = name\n",
    "moddir=\"/Applications/MODFLOW/mf2005\"\n",
    "#moddir = \"/Users/abramfarley/Desktop/gw_modeling/ModFlow_Builds/pymake/examples/mf2005\"\n",
    "#moddir=\"C:/WRDAPP/MF2005.1_12/bin/mf2005.exe\"\n",
    "m = flopy.modflow.Modflow(modelname, exe_name = moddir)\n",
    "\n",
    "\n",
    "#Discretization - dis\n",
    "\n",
    "dis = flopy.modflow.ModflowDis(model=m, nlay=nlay, nrow=nrow, ncol=ncol, \n",
    "                               delr=dx, delc=dy, top=ztop, botm=botm, \n",
    "                               itmuni = 4, lenuni = 2, \n",
    "                               nper=nper, steady=steady, perlen=perlen, nstp=nstp)\n",
    "\n",
    "# Boundary and initial conditions - bas\n",
    "bas = flopy.modflow.ModflowBas(m, ibound=ibound, strt=H_init)\n",
    "\n",
    "#Layer properties - lpf\n",
    "lpf = flopy.modflow.ModflowLpf(m, laytyp=1, hk=Kh, \n",
    "                               vka=Kz, ss=Ss,\n",
    "                               sy=Sy,storagecoefficient=True, ipakcb=53)\n",
    "#ET - evt\n",
    "evt = flopy.modflow.mfevt.ModflowEvt(m, surf=ztop, evtr=ET_dict, exdp=extinction_depth, ipakcb=53) \n",
    "\n",
    "#Recharge - rch\n",
    "rch = flopy.modflow.mfrch.ModflowRch(model=m, rech=rech_dict, ipakcb=53)     #create rch object\n",
    "\n",
    "#River - riv\n",
    "riv = flopy.modflow.ModflowRiv(model=m, stress_period_data = riv_spd, ipakcb=53)\n",
    "\n",
    "#Well - wel\n",
    "wel = flopy.modflow.ModflowWel(model=m, stress_period_data=wel_spd)\n",
    "\n",
    "# #Storage?\n",
    "# sto = flopy.mf6.modflow.mfgwfsto.ModflowGwfsto(model=m, loading_package=False, save_flows=True, storagecoefficient=None, iconvert=0, ss=Ss, sy=Sy, transient=True)\n",
    "\n",
    "#Output control - OC \n",
    "\n",
    "oc_spd = {}\n",
    "for kper in range(0, nper):\n",
    "    for kstp in range(nstp[kper]):\n",
    "        #print(kstp)\n",
    "        oc_spd[(kper, kstp)] = ['save head','save drawdown','save budget','print head','print budget']\n",
    "# #print(np.shape(oc_spd))\n",
    "#spd = {(0,0):['print head', 'print budget', 'save head', 'save budget']}\n",
    "\n",
    "oc = flopy.modflow.ModflowOc(model=m, stress_period_data=oc_spd, compact=True)\n",
    "\n",
    "# oc_spd = {}\n",
    "# for kper in range(0,nper-1): #nper is 201, this is the key for each entry in oc_spd dict\n",
    "#     oc_spd[(kper, 1)] = ['save head','save drawdown','save budget','print head','print budget']\n",
    "#     oc_spd[(kper, 90)] = ['save head','save drawdown','save budget','print head','print budget']\n",
    "#     oc_spd[(kper, 179)] = ['save head','save drawdown','save budget','print head','print budget']\n",
    "# oc = flopy.modflow.ModflowOc(model=m, stress_period_data=oc_spd, compact=True)\n",
    "\n",
    "#Numerical solver - pcg\n",
    "pcg = flopy.modflow.ModflowPcg(model=m, mxiter=10000, iter1=1000, relax = 0.95, damp = 0.1)\n",
    "\n",
    "\n",
    "#write the inputs\n",
    "m.write_input()   \n",
    "\n",
    "#check stuff\n",
    "#m.evt.check()\n",
    "# m.oc.check()\n",
    "# m.oc.check()\n",
    "# m.lpf.check()\n",
    "# #m.pcg.check()\n",
    "# m.riv.check()\n",
    "# m.rch.check()\n",
    "# m.dis.check()\n",
    "\n",
    "\n",
    "\n",
    "#Run the model \n",
    "success, mfoutput = m.run_model(pause=False, report=True)\n",
    "if not success:\n",
    "    raise Exception('MODFLOW did not terminate normally.')"
   ]
  },
  {
   "cell_type": "markdown",
   "metadata": {},
   "source": [
    "# 4. Plotting"
   ]
  },
  {
   "cell_type": "markdown",
   "metadata": {},
   "source": [
    "### Domain grid"
   ]
  },
  {
   "cell_type": "code",
   "execution_count": 15,
   "metadata": {},
   "outputs": [
    {
     "data": {
      "image/png": "[encoded data removed]",
      "text/plain": [
       "<Figure size 576x576 with 1 Axes>"
      ]
     },
     "metadata": {
      "needs_background": "light"
     },
     "output_type": "display_data"
    }
   ],
   "source": [
    "fig = plt.figure(figsize=(8, 8))\n",
    "ax = fig.add_subplot(1, 1, 1, aspect='equal')\n",
    "\n",
    "modelmap = flopy.plot.PlotMapView(model=m)\n",
    "grid = modelmap.plot_grid()\n",
    "#zones = ET_zone + rech_zone_forced\n",
    "quadmesh = modelmap.plot_array(rech_zone_forced)\n",
    "#quadmesh = modelmap.plot_array(rech_zone_forced)\n",
    "\n",
    "riv_plot = modelmap.plot_bc(ftype='RIV')\n",
    "quadmesh = modelmap.plot_ibound(ibound[0])\n",
    "wel = modelmap.plot_bc(ftype='WEL')\n",
    "#quadmesh = modelmap.plot_array(rech_zone_forced) #, color='purple')\n",
    "#riv_plot = modelmap.plot_bc(ftype='RIV')\n",
    "#chd_plot = modelmap.plot_bc(ftype='CHD')\n",
    "#quadmesh = modelmap.plot_bc('WEL')\n",
    "quadmesh = modelmap.plot_ibound()\n",
    "\n",
    "\n",
    "\n",
    "#add labels and legend\n",
    "plt.xlabel('Lx (m)',fontsize = 14)\n",
    "plt.ylabel('Ly (m)',fontsize = 14)\n",
    "plt.title('Ibound', fontsize = 15, fontweight = 'bold')\n",
    "plt.legend(handles=[mp.patches.Patch(color='blue',label='Const. Head',ec='black'),\n",
    "                   mp.patches.Patch(color='white',label='Active Cell',ec='black'),\n",
    "                   mp.patches.Patch(color='black',label='Inactive Cell',ec='black'),\n",
    "                    mp.patches.Patch(color='red',label='well',ec='black'), \n",
    "                   mp.patches.Patch(color='yellow',label='ET_zone',ec='black'),\n",
    "                    mp.patches.Patch(color='orange',label='Recharge',ec='black'),\n",
    "                    mp.patches.Patch(color='green',label='River',ec='black')\n",
    "                   ])\n",
    "\n",
    "plt.show(modelmap)\n",
    "#plt.savefig('Domaingrid.png')"
   ]
  },
  {
   "cell_type": "markdown",
   "metadata": {},
   "source": [
    "### Read in binary files"
   ]
  },
  {
   "cell_type": "code",
   "execution_count": 16,
   "metadata": {},
   "outputs": [
    {
     "data": {
      "text/plain": [
       "3603"
      ]
     },
     "execution_count": 16,
     "metadata": {},
     "output_type": "execute_result"
    }
   ],
   "source": [
    "#hds = bf.HeadFile(modelname+'.hds')                   # reads the binary head file\n",
    "#times = hds.get_times() # returns a list of timesteps\n",
    "#times = []\n",
    "# for t in range(len(perlen)):\n",
    "#     if t == 0:\n",
    "#         times.append(perlen[t])\n",
    "#     else:\n",
    "#         times.append(times[t-1]+perlen[t])\n",
    "#print(times)\n",
    "\n",
    "#head = hds.get_alldata() \n",
    "#print(head)\n",
    "head = {}\n",
    "leakage = {}\n",
    "fff = {}\n",
    "stor = {}\n",
    "recharge = {}\n",
    "et = {}\n",
    "frf = {}\n",
    "headobj = flopy.utils.binaryfile.HeadFile(modelname+'.hds')\n",
    "budgobj = flopy.utils.binaryfile.CellBudgetFile(modelname+'.cbc')\n",
    "times = headobj.get_times()\n",
    "#print(budgobj.get_unique_record_names())\n",
    "\n",
    "for stress_per, time in enumerate(times): #iterate through times at end of each stress period\n",
    "    head['sp%s'%(stress_per)] = headobj.get_data(totim=time) #append heads to head list for ea stress per\n",
    "    leakage['sp%s'%(stress_per)] = budgobj.get_data(text='RIVER LEAKAGE',totim=time) #append right face flow to frf list for ea stress per\n",
    "    fff['sp%s'%(stress_per)] = budgobj.get_data(text='FLOW FRONT FACE',totim=time) #append front face flow to fff list for ea stress per\n",
    "    frf['sp%s'%(stress_per)] = budgobj.get_data(text='flow right face', totim=time)\n",
    "    stor['sp%s'%(stress_per)] = budgobj.get_data(text='STORAGE',totim=time)\n",
    "    recharge['sp%s'%(stress_per)] = budgobj.get_data(text='RECHARGE', totim=time) \n",
    "    et['sp%s'%(stress_per)] = budgobj.get_data(text='ET', totim=time) \n",
    "\n",
    "# print(recharge.keys())\n",
    "# print(recharge[\"sp1\"])\n",
    "# print(recharge[\"sp1199\"])\n",
    "len(head)"
   ]
  },
  {
   "cell_type": "markdown",
   "metadata": {},
   "source": [
    "### Plotting Heads"
   ]
  },
  {
   "cell_type": "code",
   "execution_count": 17,
   "metadata": {},
   "outputs": [
    {
     "data": {
      "image/png": "[encoded data removed]",
      "text/plain": [
       "<Figure size 432x288 with 1 Axes>"
      ]
     },
     "metadata": {
      "needs_background": "light"
     },
     "output_type": "display_data"
    }
   ],
   "source": [
    "# Aquaseca well\n",
    "headobj = flopy.utils.binaryfile.HeadFile(modelname+'.hds')\n",
    "\n",
    "cell_id1 = well_loc #cell at the center of the ag area\n",
    "time_series1 = headobj.get_ts(cell_id1) #get the time series using flopy\n",
    "\n",
    "#create firt plot  \n",
    "plt.subplot(1, 1, 1)\n",
    "plt.title(\"Head at Aquaseca Well\",fontweight='bold')\n",
    "plt.xlabel('time (years)',fontweight='bold')\n",
    "plt.ylabel('head (m)',fontweight='bold')\n",
    "plt.plot(time_series1[:, 0]/360, time_series1[:, 1], 'b-', color=\"brown\") #plot the time series with points at each record\n",
    "\n",
    "plt.savefig(\"Head_Aqua5\"+str(name)+\".png\",dpi=600)\n",
    "plt.show()\n"
   ]
  },
  {
   "cell_type": "code",
   "execution_count": 18,
   "metadata": {},
   "outputs": [
    {
     "data": {
      "image/png": "[encoded data removed]",
      "text/plain": [
       "<Figure size 432x288 with 1 Axes>"
      ]
     },
     "metadata": {
      "needs_background": "light"
     },
     "output_type": "display_data"
    }
   ],
   "source": [
    "# Monitoring well 1\n",
    "\n",
    "cell_id1 = well2_loc #cell at the center of the ag area\n",
    "time_series1 = headobj.get_ts(cell_id1) #get the time series using flopy\n",
    "\n",
    "#create firt plot  \n",
    "plt.subplot(1, 1, 1)\n",
    "plt.title(\"Head at MW1\",fontweight='bold')\n",
    "plt.xlabel('time (days)',fontweight='bold')\n",
    "plt.ylabel('head (m)',fontweight='bold')\n",
    "plt.plot(time_series1[:, 0]/360, time_series1[:, 1], 'b-') #plot the time series with points at each record\n",
    "# plt.plot(time_series1[900:, 0], time_series1[900:, 1], 'b-') #less data\n",
    "\n",
    "plt.savefig(\"Head_M1\"+str(name)+\".png\",dpi=600)\n",
    "plt.show()"
   ]
  },
  {
   "cell_type": "code",
   "execution_count": 19,
   "metadata": {},
   "outputs": [
    {
     "data": {
      "image/png": "[encoded data removed]",
      "text/plain": [
       "<Figure size 432x288 with 1 Axes>"
      ]
     },
     "metadata": {
      "needs_background": "light"
     },
     "output_type": "display_data"
    }
   ],
   "source": [
    "# Monitoring well 2\n",
    "cell_id1 = well3_loc #cell at the center of the ag area\n",
    "time_series1 = headobj.get_ts(cell_id1) #get the time series using flopy\n",
    "\n",
    "#create firt plot  \n",
    "plt.subplot(1, 1, 1)\n",
    "plt.title(\"Head at MW2\",fontweight='bold')\n",
    "plt.xlabel('time (years)',fontweight='bold')\n",
    "plt.ylabel('head (m)',fontweight='bold')\n",
    "#plt.ylim(87, 92)\n",
    "plt.plot(time_series1[:, 0]/360, time_series1[:, 1], 'b-') #plot the time series with points at each record\n",
    "\n",
    "plt.savefig(\"Head_M2\"+str(name)+\".png\", dpi=600)\n",
    "plt.show()\n"
   ]
  },
  {
   "cell_type": "code",
   "execution_count": 20,
   "metadata": {},
   "outputs": [
    {
     "data": {
      "image/png": "[encoded data removed]",
      "text/plain": [
       "<Figure size 432x288 with 1 Axes>"
      ]
     },
     "metadata": {
      "needs_background": "light"
     },
     "output_type": "display_data"
    }
   ],
   "source": [
    "# Irrigation well\n",
    "cell_id1 = well4_loc #cell at the center of the ag area\n",
    "time_series1 = headobj.get_ts(cell_id1) #get the time series using flopy\n",
    "\n",
    "#create firt plot  \n",
    "plt.subplot(1, 1, 1)\n",
    "plt.title(\"Head at Irrigation Well (Scen 5)\",fontweight='bold')\n",
    "plt.xlabel('time (years)',fontweight='bold')\n",
    "plt.ylabel('head (m)',fontweight='bold')\n",
    "#plt.ylim(89, 92)\n",
    "plt.plot(time_series1[:, 0]/360, time_series1[:, 1], 'b-', color=\"magenta\") #plot the time series with points at each record\n",
    "\n",
    "plt.savefig(\"Head_irri\"+str(name)+\".png\", dpi=600)\n",
    "plt.show()"
   ]
  },
  {
   "cell_type": "code",
   "execution_count": null,
   "metadata": {},
   "outputs": [],
   "source": []
  }
 ],
 "metadata": {
  "kernelspec": {
   "display_name": "Python 3",
   "language": "python",
   "name": "python3"
  },
  "language_info": {
   "codemirror_mode": {
    "name": "ipython",
    "version": 3
   },
   "file_extension": ".py",
   "mimetype": "text/x-python",
   "name": "python",
   "nbconvert_exporter": "python",
   "pygments_lexer": "ipython3",
   "version": "3.8.1"
  }
 },
 "nbformat": 4,
 "nbformat_minor": 4
}
