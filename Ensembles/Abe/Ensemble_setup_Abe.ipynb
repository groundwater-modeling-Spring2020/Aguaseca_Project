{
 "cells": [
  {
   "cell_type": "markdown",
   "metadata": {},
   "source": [
    "# Ensembles\n",
    "\n",
    "We will be running the following ensembles in this notebook: \n",
    "- 3333333\n",
    "- 3313333 \n",
    "- 3331333\n",
    "- 3333331\n",
    "- 2233223\n",
    "- 2213223\n",
    "- 2231223\n",
    "- 2233221\n",
    "- 2211221\n",
    "- 1111111\n",
    "\n",
    "Stipulations for ensembles:\n",
    "- no seasonality\n",
    "- run monthly\n",
    "- Aquaseca's notebook was our base model\n",
    "\n",
    "Parameter Values\n",
    "- 1. K1, K2, and K3 = [5, 25, 100] # baseline Kx=Ky=Kz value in all zones (m/day)\n",
    "- 2. Kz ratio_lowK = [1e-6, 1e-2, 1] # ratio of Kz in low-K layer to baseline K (-)\n",
    "- 3. Sy = [0.05, 0.1, 0.3] # specific yield (-)\n",
    "- 4. R_mountains = [1e-5, 3e-5, 5e-5] # recharge rate in mountains (m/day)\n",
    "- 5. ET_valley = [1e-6, 1e-5, 1e-4] # ET rate in valley (m/day)\n",
    "- 6. ETratio_riparian = [1, 2, 3] # ratio of ET in riparian area to ET rate in valley (m/day)\n",
    "- 7. Kratio_streambed = [1e-2,1e-1, 1] # ratio of K in streambed to baseline K (-)\n"
   ]
  },
  {
   "cell_type": "markdown",
   "metadata": {},
   "source": [
    "# 1. Packages"
   ]
  },
  {
   "cell_type": "code",
   "execution_count": 1,
   "metadata": {},
   "outputs": [
    {
     "name": "stdout",
     "output_type": "stream",
     "text": [
      "flopy is installed in /Library/Frameworks/Python.framework/Versions/3.7/lib/python3.7/site-packages/flopy\n"
     ]
    }
   ],
   "source": [
    "#import packages\n",
    "import flopy\n",
    "import numpy as np\n",
    "import matplotlib.pyplot as plt\n",
    "import matplotlib as mp\n",
    "import pandas as pd\n",
    "import numpy as np\n",
    "import os\n",
    "import csv\n",
    "\n",
    "#additional analysis tools\n",
    "import flopy.utils.binaryfile as bf\n",
    "from mpl_toolkits.mplot3d import Axes3D\n",
    "from matplotlib import cm\n",
    "from matplotlib.ticker import LinearLocator, FormatStrFormatter\n",
    "np.set_printoptions(threshold=np.inf)\n",
    "\n",
    "#jupyter specific--included to show plots in notebook\n",
    "%matplotlib inline "
   ]
  },
  {
   "cell_type": "markdown",
   "metadata": {},
   "source": [
    "# 2. Discretization and other inputs"
   ]
  },
  {
   "cell_type": "code",
   "execution_count": 2,
   "metadata": {},
   "outputs": [
    {
     "name": "stdout",
     "output_type": "stream",
     "text": [
      "well1 location(layer, col, row) 29 37\n",
      "well2 location(layer, col, row) 25.0 24.0\n",
      "well3 location(layer, col, row) 37.0 12.0\n",
      "well4 location(layer, col, row) 38 12\n"
     ]
    }
   ],
   "source": [
    "# Discretization\n",
    "nrow = 50 #number of rows\n",
    "ncol = 50 #number of columns\n",
    "nlay = 3  #number of layers\n",
    "\n",
    "dx= 1000 #width of grid cells in x direction \n",
    "dy= 1000 #width of grid cells in y direction \n",
    "Lx = ncol*dx  #width of domain in x\n",
    "Ly = nrow*dy #width of domain in y\n",
    "\n",
    "#ztop = 100\n",
    "ztop = np.genfromtxt('base_model_elevs.csv', delimiter=',', dtype=float)   # top elevation of top layer (import from csv file) (dim: nrow,ncol)\n",
    "#print(type(ztop))\n",
    "#print(ztop.shape)\n",
    "#print(ztop[0,:])\n",
    "zbot = 0.     #bottom elevation\n",
    "\n",
    "\n",
    "## Subsurface properties\n",
    "n = 0.1        #assign porosity\n",
    "Ss = 0.0001      #assign storage coefficient\n",
    "uncnf = 1       #0=confined, >0 = unconfined\n",
    "\n",
    "\n",
    "#supply well\n",
    "pumping = 0 #m3/day \n",
    "well_xy= [38000, 29000] #xy location of well \n",
    "well_row = np.floor((nrow)-(well_xy[1]/dy)) #convert the y location to a row\n",
    "well_col=np.floor(well_xy[0]/dx) #convert the x location to a column\n",
    "well_row = 29\n",
    "well_col = 37\n",
    "well_loc = (0,well_row, well_col)\n",
    "well = [2,well_row, well_col, pumping] #Well loc shoudl be layer, row, column\n",
    "print(\"well1 location(layer, col, row)\", well_row, well_col)\n",
    "\n",
    "\n",
    "#MW1\n",
    "pumping2 = 0 #m3/day \n",
    "well2_xy= [25000, 25000] #xy location of well \n",
    "well2_row = np.floor((nrow)-(well2_xy[1]/dy)) #convert the y location to a row\n",
    "well2_col=np.floor(well2_xy[0]/dx)-1 #convert the x location to a column\n",
    "well2_loc = (0,well2_row, well2_col)\n",
    "well2 = [0,well2_row, well2_col, pumping2] #Well loc shoudl be layer, row, column\n",
    "print(\"well2 location(layer, col, row)\", well2_row, well2_col)\n",
    "\n",
    "#MW2\n",
    "pumping3 = 0 #m3/day \n",
    "well3_xy= [12500, 12500] #xy location of well \n",
    "well3_row = np.floor((nrow)-(well3_xy[1]/dy)) #convert the y location to a row\n",
    "well3_col=np.floor(well3_xy[0]/dx) #convert the x location to a column\n",
    "well3_loc = (0,well3_row, well3_col)\n",
    "well3 = [0,well3_row, well3_col, pumping3] \n",
    "print(\"well3 location(layer, col, row)\", well3_row, well3_col)\n",
    "\n",
    "\n",
    "#irrigation well\n",
    "pumping4 = -4500 #m3/day \n",
    "well4_row = 38 \n",
    "well4_col = 12 \n",
    "well4_loc = (0,well4_row, well4_col)\n",
    "well4 = [0,well4_row, well4_col, pumping4] \n",
    "print(\"well4 location(layer, col, row)\", well4_row, well4_col)\n",
    "\n",
    "#wel_spd = {0: [well, well2, well3, well4]}\n",
    "#print(len(wel_spd))\n",
    "\n",
    "\n",
    "## Timing\n",
    "# nper = 1 #number of stress periods \n",
    "# steady = [True] #list noting the stress period type\n",
    "\n"
   ]
  },
  {
   "cell_type": "markdown",
   "metadata": {},
   "source": [
    " ## Name of run and Paramenter Inputs"
   ]
  },
  {
   "cell_type": "code",
   "execution_count": 3,
   "metadata": {},
   "outputs": [
    {
     "name": "stdout",
     "output_type": "stream",
     "text": [
      "ensemble_1111111\n"
     ]
    }
   ],
   "source": [
    "ensemble_num = [1,1,1,1,1,1,1]#change ensemble here\n",
    "name = \"ensemble_\"\n",
    "for i in range(len(ensemble_num)):\n",
    "    string = str(ensemble_num[i])\n",
    "    name = name + string\n",
    "print(name)"
   ]
  },
  {
   "cell_type": "markdown",
   "metadata": {},
   "source": [
    "## 2.1 Parameters that change"
   ]
  },
  {
   "cell_type": "markdown",
   "metadata": {},
   "source": [
    "### Specific yield"
   ]
  },
  {
   "cell_type": "code",
   "execution_count": 4,
   "metadata": {},
   "outputs": [
    {
     "name": "stdout",
     "output_type": "stream",
     "text": [
      "0.05\n"
     ]
    }
   ],
   "source": [
    "if ensemble_num[2] == 1:\n",
    "    Sy = 0.05  #lowest   #assign specific yield\n",
    "elif ensemble_num[2] == 2:\n",
    "    Sy = 0.1\n",
    "else:\n",
    "    Sy = 0.3   #highest\n",
    "print(Sy)"
   ]
  },
  {
   "cell_type": "markdown",
   "metadata": {},
   "source": [
    "### Recharge"
   ]
  },
  {
   "cell_type": "code",
   "execution_count": 5,
   "metadata": {},
   "outputs": [
    {
     "name": "stdout",
     "output_type": "stream",
     "text": [
      "1e-05\n",
      "recharge location(col, row) (0.0, 0.0) (14.0, 50.0)\n"
     ]
    }
   ],
   "source": [
    "#R_mountains = [1e-5, 3e-5, 5e-5]\n",
    "if ensemble_num[3] == 1:\n",
    "    rech=1e-5  #m/d #lowest   #assign specific yield\n",
    "elif ensemble_num[3] == 2:\n",
    "    rech=3e-5\n",
    "else:\n",
    "    rech=5e-5  #m/d\n",
    "\n",
    "print(rech)\n",
    "rechxy=[(0,0),(0,36000)]  #recharge zone\n",
    "\n",
    "rech_rows_forced = (1.0, 49.0) #rech zone forced for leftmost 15 cols\n",
    "rech_cols_forced = (1.0, 15.0)\n",
    "\n",
    "agrech_rows_forced = (28.0, 30.0) #rech zone forced for leftmost 15 cols\n",
    "agrech_cols_forced = (18.0, 20.0)\n",
    "agrech = 0.00015  #pistachios (1/8th area already included)\n",
    "\n",
    "rech_zone_forced = np.zeros((1, nrow,ncol))\n",
    "rech_zone_forced[0, int(rech_rows_forced[0]):int(rech_rows_forced[1]),int(rech_cols_forced[0]):int(rech_cols_forced[1])]=rech\n",
    "rech_zone_forced[0, int(agrech_rows_forced[0]):int(agrech_rows_forced[1]),int(agrech_cols_forced[0]):int(agrech_cols_forced[1])]=agrech\n",
    "\n",
    "rech_rows=(np.floor(nrow-rechxy[1][1]/dy),np.floor(nrow-rechxy[0][1]/dy))\n",
    "rech_cols=(np.floor(rechxy[0][0]/dx),np.floor(rechxy[1][0]/dx))\n",
    "#rech_zone=np.zeros(1,nrow,ncol)\n",
    "#rech_zone[0,int(rech_rows[0]):int(rech_rows[1]),int(rech_cols[0]):int(rech_cols[1])]=rech\n",
    "print(\"recharge location(col, row)\", rech_cols,rech_rows)\n",
    "\n"
   ]
  },
  {
   "cell_type": "markdown",
   "metadata": {},
   "source": [
    "### K values"
   ]
  },
  {
   "cell_type": "code",
   "execution_count": 6,
   "metadata": {},
   "outputs": [
    {
     "name": "stdout",
     "output_type": "stream",
     "text": [
      "5 5 1e-06 1e-06\n"
     ]
    }
   ],
   "source": [
    "\n",
    "## K for layers 1 and 3 \n",
    "if ensemble_num[0] == 1:\n",
    "    K_horiz = 5 #m/d\n",
    "    K_vert = 5 #m/d\n",
    "elif ensemble_num[0] == 2:\n",
    "    K_horiz = 25 #m/d\n",
    "    K_vert = 25 #m/d\n",
    "else:\n",
    "    K_horiz = 100 #m/d\n",
    "    K_vert = 100 #m/d\n",
    "    \n",
    "    \n",
    "#Kzratio_lowK = [1e-6, 1e-2, 1] # ratio of Kz in low-K layer to baseline K (-)\n",
    "if ensemble_num[1] == 1:\n",
    "    K_horiz2 = 1e-6 #m/d\n",
    "    K_vert2 = 1e-6 #m/d\n",
    "elif ensemble_num[1] == 2:\n",
    "    K_horiz2 = 1e-2 #m/d\n",
    "    K_vert2 = 1e-2 #m/d\n",
    "else:\n",
    "    K_horiz2 = 1 #m/d\n",
    "    K_vert2 = 1 #m/d\n",
    "    \n",
    "\n",
    "## K for layer 2\n",
    "# Kvert1 = 0.000001 #m/d  #K for the middle layer \n",
    "# Kvert2 = 0.01 #m/d\n",
    "# Kvert3 = 1 #m/d\n",
    "\n",
    "## make horizontal K np arrays\n",
    "Kh = np.zeros((nlay,nrow,ncol))     # define an array of zeros the size of the model grid (nlay, nrow, ncol)\n",
    "Kh[:,:,:] = K_horiz # assign the original value to the entire array\n",
    "\n",
    "## Make a arrays for the K values\n",
    "Kz = np.zeros((nlay,nrow,ncol))     # define an array of zeros the size of the model grid (nlay, nrow, ncol)\n",
    "Kz[:,:,:] = K_vert                   # assign the original value to the entire array\n",
    "Kz[1,:,20:49] = K_vert2            #Replace K in the middle layer with the lower value\n",
    "#Kz[1,:,:] = K_vert2\n",
    "#print(K_horiz)\n",
    "#print(Kz)\n",
    "\n",
    "## Make some changes to the parameters\n",
    "bot_elev = 0.\n",
    "mid_elev = 40.\n",
    "top_elev = 45.\n",
    "\n",
    "botm = np.zeros((nlay,nrow,ncol)) # initialize array of zeros for bottom elevation for each model cell (dim: nlay,nrow,ncol)\n",
    "botm[2,:,:] = bot_elev                 # bottom elevation of lowest layer (2) is 0 m\n",
    "botm[1,:,:] = mid_elev                 #bottom elevation of middle layer (1) is 40 m           \n",
    "botm[0,:,:] = top_elev                 # bottom elevation of top layer (0) 45 \n",
    "print(K_horiz,K_vert, K_horiz2, K_vert2)"
   ]
  },
  {
   "cell_type": "markdown",
   "metadata": {},
   "source": [
    "### Stream K"
   ]
  },
  {
   "cell_type": "code",
   "execution_count": 7,
   "metadata": {},
   "outputs": [],
   "source": [
    "riv_row= 24\n",
    "riv_sp = [] #create list to store all river cells for stress period 1\n",
    "\n",
    "\n",
    "#Kratio_streambed = [1e-2,1e-1, 1] # ratio of K in streambed to baseline K (-)\n",
    "if ensemble_num[6] == 1:\n",
    "    k_rivbott = 0.01\n",
    "elif ensemble_num[6] == 2:\n",
    "    k_rivbott = 0.1\n",
    "else:\n",
    "    k_rivbott = 1\n",
    "\n",
    "\n",
    "# k_rivbott1 = 0.01 #river bottom hydraulic conductivity in m/d\n",
    "# k_rivbott3 = 1 #river bottom hydraulic conductivity in m/d\n",
    "# # Kratio_streambed = [1e-2,1e-1, 1]\n",
    "\n",
    "sed_thick = 1 #thickness of riverbed sediment in m\n",
    "cond = k_rivbott*(1)*(1000)/(sed_thick) #river bed conductance in m^2/d\n",
    "r_stage = .5 #stage in river (stress period 1)\n",
    "r_bott = ztop[riv_row,:] #river bottom\n",
    "#print(r_bott)\n",
    "for i in range(1,ncol):\n",
    "    riv_sp.append([0, riv_row, i, r_bott[i]-1+sed_thick+r_stage, cond, r_bott[i]-2])\n",
    "    \n",
    "#print(riv_spd)\n",
    "#create dictionary of stress period data\n",
    "riv_spd = {0: riv_sp}\n",
    "#print(riv_spd)"
   ]
  },
  {
   "cell_type": "markdown",
   "metadata": {},
   "source": [
    "## 2.2 Stressperiods"
   ]
  },
  {
   "cell_type": "code",
   "execution_count": 8,
   "metadata": {},
   "outputs": [],
   "source": [
    "sp_peryr = 1   #number of seasons (with and wihtout ET. April-Sept and Oct-Mar)\n",
    "sp_len = 360  #sp lengths\n",
    "sim_years = 100\n",
    "nper = int(sp_peryr*sim_years)\n",
    "\n",
    "# sp_peryr = 2   #number of seasons (with and wihtout ET. April-Sept and Oct-Mar)\n",
    "# sp1_len = 180  #sp lengths\n",
    "# sp2_len = 180\n",
    "# sim_years = 100\n",
    "# nper = int(sp_peryr*sim_years)\n",
    "\n",
    "#setup the steady state array\n",
    "steady = np.ones(nper, dtype=bool)*False     # steady-state or transient flag for each stress period (boolean array)\n",
    "#print(steady)\n",
    "# steady[0] = True    # initial stress period is steady-state\n",
    "\n",
    "#make an array of period lengths\n",
    "perlen=np.tile([sp_len],sim_years)\n",
    "#perlen=np.append(10,perlen) #add a period of length 10 at the start for the steady state simulation\n",
    "#print(\"Period lengths\", perlen)\n",
    "\n",
    "#make an nstp array for the # of time steps to solve within each period in this case we will do daily \n",
    "\n",
    "nstp=perlen/30 #30 for monthly\n",
    "#nstp[0]=1 #for the steady state solution we just want one output\n",
    "nstp = nstp.astype(int)\n",
    "#print(\"Number of Steps\", nstp)\n",
    "\n",
    "\n",
    "## Boundary conditions\n",
    "h_right = 70"
   ]
  },
  {
   "cell_type": "markdown",
   "metadata": {},
   "source": [
    "### ET"
   ]
  },
  {
   "cell_type": "code",
   "execution_count": 9,
   "metadata": {},
   "outputs": [],
   "source": [
    "## ET\n",
    "\n",
    "# ET_valley = [1e-6, 1e-5, 1e-4] # ET rate in valley (m/day)\n",
    "# ETratio_riparian = [1, 2, 3] # ratio of ET in riparian area to ET rate in valley (m/day)\n",
    "\n",
    "#ET_valley = [1e-6, 1e-5, 1e-4] # ET rate in valley (m/day)\n",
    "if ensemble_num[4] == 1:\n",
    "    ET = 1e-6 #m/day\n",
    "elif ensemble_num[4] == 2:\n",
    "    ET = 1e-5 #m/day\n",
    "else:\n",
    "    ET = 1e-4 #m/day\n",
    "\n",
    "# ETratio_riparian = [1, 2, 3] # ratio of ET in riparian area to ET rate in valley (m/day)\n",
    "if ensemble_num[5] == 1:\n",
    "    rip_ET = ET #m/day\n",
    "elif ensemble_num[5] == 2:\n",
    "    rip_ET = ET*2 #m/day\n",
    "else:\n",
    "    rip_ET = ET*3 #m/day\n",
    "    \n",
    "\n",
    "ET_locxy=[[24000,0], [0, 0]] #lower left and upper right corners of ET in xy coordinate\n",
    "rip_ET= 5e-5  #riparian zone\n",
    "\n",
    "\n",
    "rip_locxy= [[0,21000],[23000,0]]\n",
    "extinction_depth = 10 #m\n",
    "#print(ET_locxy)\n",
    "#print(rip_loc)\n",
    "\n",
    "# ET_rows=(np.floor(nrow-ET_locxy[1][1]/dy),np.floor(nrow-ET_locxy[0][1]/dy)) #convert the y locations to rows\n",
    "# ET_cols=(np.floor(ET_locxy[0][0]/dx),np.floor(ET_locxy[1][0]/dx)) #convert the y locations to rows\n",
    "\n",
    "# ET_rows2=(np.floor(nrow-ET_locxy[1][1]/dy),np.floor(nrow-ET_locxy[0][1]/dy)) #convert the y locations to rows\n",
    "# ET_cols2=(np.floor(ET_locxy[0][0]/dx),np.floor(ET_locxy[1][0]/dx))\n",
    "\n",
    "ET_rows_forced=(1.0, 49.0) #me forcing the et_rows to be 0-50\n",
    "ET_cols_forced = (26.0, 49.0)\n",
    "\n",
    "ET_zone = np.zeros((1,nrow,ncol))     # define an array of zeroes the size of the model grid\n",
    "ET_zone[0,int(ET_rows_forced[0]):int(ET_rows_forced[1]), int(ET_cols_forced[0]):int(ET_cols_forced[1])] = ET \n",
    "#print(\"ET location(col, row)\", ET_cols,ET_rows)\n",
    "#print(\"ETrows_forced:\", ET_rows_forced)\n",
    "#print(\"ETrows:\", ET_rows)\n",
    "#print(\"ETcols:\", ET_cols)\n",
    "#print(\"ETrows2:\", ET_rows2)\n",
    "#print(\"ETcols2:\", ET_cols2)\n",
    "\n",
    "rip_rows_forced = (21.0, 28.0)  #forced riparian area\n",
    "rip_cols_forced = (1.0, 49.0)\n",
    "\n",
    "\n",
    "\n",
    "\n",
    "\n",
    "# rip_rows=(np.floor(nrow-rip_locxy[1][1]/dy),np.floor(nrow-rip_locxy[0][1]/dy)) #convert the y locations to rows\n",
    "# rip_cols=(np.floor(rip_locxy[0][0]/dx),np.floor(rip_locxy[1][0]/dx)) #convert the y locations to rows\n",
    "rip_zone = np.zeros((nlay,nrow,ncol))     # define an array of zeroes the size of the model grid\n",
    "ET_zone[0,int(rip_rows_forced[0]):int(rip_rows_forced[1]), int(rip_cols_forced[0]):int(rip_cols_forced[1])] = rip_ET \n",
    "#print(\"Riparian location(col, row)\", rip_cols,rip_rows)       \n",
    "\n",
    "\n",
    "\n",
    "ET_dict = {} #set up an ET dictionary, where each key is a stress period num 0-50\n",
    "ET_zone2 = ET_zone * 0 \n",
    "# for p in range(0,nper):    #loop over stress periods, odds are 0 ET, evens are reg ET\n",
    "#     if p == 0:\n",
    "#         ET_dict[p] = ET_zone\n",
    "#     elif int(p % 2) != 0:\n",
    "#         ET_dict[p]=ET_zone2\n",
    "#         #print(p)\n",
    "#     else: \n",
    "#         ET_dict[p] = ET_zone\n",
    "\n",
    "#No steady state test\n",
    "for p in range(0,nper):    #loop over stress periods, odds are 0 ET, evens are reg ET\n",
    "    if p == 0:\n",
    "        ET_dict[p] = ET_zone2\n",
    "    elif int(p % 2) != 0:\n",
    "        ET_dict[p]=ET_zone\n",
    "        #print(p)\n",
    "    else: \n",
    "        ET_dict[p] = ET_zone2"
   ]
  },
  {
   "cell_type": "markdown",
   "metadata": {},
   "source": []
  },
  {
   "cell_type": "code",
   "execution_count": null,
   "metadata": {},
   "outputs": [],
   "source": []
  },
  {
   "cell_type": "code",
   "execution_count": null,
   "metadata": {},
   "outputs": [],
   "source": []
  }
 ],
 "metadata": {
  "kernelspec": {
   "display_name": "Python 3",
   "language": "python",
   "name": "python3"
  },
  "language_info": {
   "codemirror_mode": {
    "name": "ipython",
    "version": 3
   },
   "file_extension": ".py",
   "mimetype": "text/x-python",
   "name": "python",
   "nbconvert_exporter": "python",
   "pygments_lexer": "ipython3",
   "version": "3.7.4"
  }
 },
 "nbformat": 4,
 "nbformat_minor": 4
}
