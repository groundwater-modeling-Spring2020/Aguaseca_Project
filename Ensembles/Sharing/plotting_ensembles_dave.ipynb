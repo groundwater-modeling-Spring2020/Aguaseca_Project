{
 "cells": [
  {
   "cell_type": "code",
   "execution_count": 4,
   "metadata": {},
   "outputs": [
    {
     "name": "stdout",
     "output_type": "stream",
     "text": [
      "flopy is installed in c:\\users\\davem\\appdata\\local\\programs\\python\\python38-32\\lib\\site-packages\\flopy\n"
     ]
    }
   ],
   "source": [
    "#import packages\n",
    "import flopy\n",
    "import numpy as np\n",
    "import matplotlib.pyplot as plt\n",
    "import matplotlib as mp\n",
    "import pandas as pd\n",
    "import numpy as np\n",
    "import os\n",
    "\n",
    "\n",
    "#additional analysis tools\n",
    "import flopy.utils.binaryfile as bf\n",
    "from mpl_toolkits.mplot3d import Axes3D\n",
    "from matplotlib import cm\n",
    "from matplotlib.ticker import LinearLocator, FormatStrFormatter\n",
    "\n",
    "\n",
    "np.set_printoptions(threshold=np.inf)\n",
    "\n",
    "#jupyter specific--included to show plots in notebook\n",
    "%matplotlib inline "
   ]
  },
  {
   "cell_type": "code",
   "execution_count": 19,
   "metadata": {},
   "outputs": [],
   "source": [
    "ensembles = [\n",
    " [3,3,3,3,3,3,3],\n",
    "# [3,3,1,3,3,3,3], \n",
    "# [3,3,3,1,3,3,3],\n",
    "# [3,3,3,3,3,3,1],\n",
    "# [2,2,3,3,2,2,3],\n",
    "# [2,2,1,3,2,2,3],\n",
    "# [2,2,3,1,2,2,3],\n",
    "# [2,2,3,3,2,2,1],\n",
    "# [2,2,1,1,2,2,1],\n",
    "[1,1,1,1,1,1,1]]\n",
    "\n",
    "#ensemble_num = ensembles[0]#change ensemble here\n",
    "#print(ensemble_num)\n",
    "name = \"ensemble_\"\n",
    "well_row = 29\n",
    "well_col = 37\n",
    "well_loc = (0,well_row, well_col)\n",
    "\n",
    "head = np.tile([],len(ensembles))\n",
    "head_ts = []\n",
    "#print(head)\n",
    "for i in range(len(ensembles)):\n",
    "    name = \"ensemble_\"   #Create the file name from list \n",
    "    for k in range(len(ensembles[i])):\n",
    "        string = str(ensembles[i][k])\n",
    "        name = name + string   \n",
    "                   \n",
    "#     head[i] = {}\n",
    "#     leakage[i] = {}\n",
    "#     fff[i] = {}\n",
    "#     stor[i] = {}\n",
    "#     recharge[i] = {}\n",
    "#     et[i] = {}\n",
    "#     frf[i] = {}\n",
    "    headobj = flopy.utils.binaryfile.HeadFile(name+'.hds')\n",
    "    budgobj = flopy.utils.binaryfile.CellBudgetFile(name+'.cbc')\n",
    "    head_ts.append(headobj.get_ts(well_loc))\n",
    "    #print(budgobj.get_unique_record_names())\n",
    "\n",
    "#     for stress_per, time in enumerate(times): #iterate through times at end of each stress period\n",
    "#         head[i]['sp%s'%(stress_per)] = headobj.get_data(totim=time) #append heads to head list for ea stress per\n",
    "#        leakage['sp%s'%(stress_per)] = budgobj.get_data(text='RIVER LEAKAGE',totim=time) #append right face flow to frf list for ea stress per\n",
    "#         fff['sp%s'%(stress_per)] = budgobj.get_data(text='FLOW FRONT FACE',totim=time) #append front face flow to fff list for ea stress per\n",
    "#         frf['sp%s'%(stress_per)] = budgobj.get_data(text='flow right face', totim=time)\n",
    "#         stor['sp%s'%(stress_per)] = budgobj.get_data(text='STORAGE',totim=time)\n",
    "#         recharge['sp%s'%(stress_per)] = budgobj.get_data(text='RECHARGE', totim=time) \n",
    "#         et['sp%s'%(stress_per)] = budgobj.get_data(text='ET', totim=time) "
   ]
  },
  {
   "cell_type": "code",
   "execution_count": 20,
   "metadata": {},
   "outputs": [
    {
     "data": {
      "image/png": "[encoded data removed]",
      "text/plain": [
       "<Figure size 432x288 with 1 Axes>"
      ]
     },
     "metadata": {
      "needs_background": "light"
     },
     "output_type": "display_data"
    }
   ],
   "source": [
    "# Aquaseca well\n",
    "nrow = 50 #number of rows\n",
    "ncol = 50 #number of columns\n",
    "dx= 1000 #width of grid cells in x direction \n",
    "dy= 1000 #width of grid cells in y direction \n",
    "\n",
    "well_row = 29\n",
    "well_col = 37\n",
    "well_loc = (0,well_row, well_col)\n",
    "\n",
    "well2_xy= [25000, 25000] #xy location of well \n",
    "well2_row = np.floor((nrow)-(well2_xy[1]/dy)) #convert the y location to a row\n",
    "well2_col=np.floor(well2_xy[0]/dx)-1 #convert the x location to a column\n",
    "well2_loc = (0,well2_row, well2_col)\n",
    "\n",
    "well3_xy= [12500, 12500] #xy location of well \n",
    "well3_row = np.floor((nrow)-(well3_xy[1]/dy)) #convert the y location to a row\n",
    "well3_col=np.floor(well3_xy[0]/dx) #convert the x location to a column\n",
    "well3_loc = (0,well3_row, well3_col)\n",
    "\n",
    "well4_row = 38 \n",
    "well4_col = 12 \n",
    "well4_loc = (0,well4_row, well4_col)\n",
    "\n",
    "cell_id1 = well_loc #cell at the center of the ag area\n",
    "#time_series1 = headobj.get_ts(cell_id1) #get the time series using flopy\n",
    "\n",
    "#create firt plot  \n",
    "plt.subplot(1, 1, 1)\n",
    "plt.title(\"Head at Aquaseca Well (Scen5)\",fontweight='bold')\n",
    "plt.xlabel('time (years)',fontweight='bold')\n",
    "plt.ylabel('head (m)',fontweight='bold')\n",
    "for j in range(len(ensembles)):\n",
    "    plt.plot(head_ts[j][:, 0]/360, head_ts[j][:, 1]) #plot the time series with points at each record\n",
    "\n",
    "#plt.savefig(\"Head_Aqua5.png\",dpi=600)\n",
    "plt.show()\n"
   ]
  },
  {
   "cell_type": "code",
   "execution_count": null,
   "metadata": {},
   "outputs": [],
   "source": []
  }
 ],
 "metadata": {
  "kernelspec": {
   "display_name": "Python 3",
   "language": "python",
   "name": "python3"
  },
  "language_info": {
   "codemirror_mode": {
    "name": "ipython",
    "version": 3
   },
   "file_extension": ".py",
   "mimetype": "text/x-python",
   "name": "python",
   "nbconvert_exporter": "python",
   "pygments_lexer": "ipython3",
   "version": "3.8.1"
  }
 },
 "nbformat": 4,
 "nbformat_minor": 4
}
